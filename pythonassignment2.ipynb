{
 "cells": [
  {
   "cell_type": "code",
   "execution_count": null,
   "id": "8444ee45-8e2e-43a2-b740-8fd2f9c3c491",
   "metadata": {},
   "outputs": [],
   "source": [
    "1.What are the two values of the Boolean data type? How do you write them?\n",
    "Answer - there are two boolean data types known as 'True and False'\n",
    "'True and False, using capital T and F, with the rest of the word in lowercase'."
   ]
  },
  {
   "cell_type": "code",
   "execution_count": null,
   "id": "0e356c4b-25e4-4d72-a4c9-0369857f86e0",
   "metadata": {},
   "outputs": [],
   "source": [
    "2.What are the three different types of Boolean operators?\n",
    "ANSWER -  three boolean operators are' and , or , not'"
   ]
  },
  {
   "cell_type": "code",
   "execution_count": null,
   "id": "c9684e50-351f-49a9-924c-c34cf740f127",
   "metadata": {},
   "outputs": [],
   "source": [
    "3. Make a list of each Boolean operator& truth tables (i.e. every possible combination of Boolean\n",
    "values for the operator and what it evaluate ).\n",
    "ANSWER - '''True and True is True.\n",
    "\n",
    "True and False is False.\n",
    "\n",
    "False and True is False.\n",
    "\n",
    "False and False is False.\n",
    "\n",
    "True or True is True.\n",
    "\n",
    "True or False is True.\n",
    "\n",
    "False or True is True.\n",
    "\n",
    "False or False is False.\n",
    "\n",
    "not True is False.\n",
    "\n",
    "not False is True.'''"
   ]
  },
  {
   "cell_type": "code",
   "execution_count": null,
   "id": "65dfcf25-f1f7-4f42-b6a5-fb4288c80453",
   "metadata": {},
   "outputs": [],
   "source": [
    "4. What are the values of the following expressions?\n",
    "(5 &gt; 4) and (3 == 5)\n",
    "not (5 &gt; 4)\n",
    "(5 &gt; 4) or (3 == 5)\n",
    "not ((5 &gt; 4) or (3 == 5))\n",
    "(True and True) and (True == False)\n",
    "(not False) or (not True)\n",
    " "
   ]
  },
  {
   "cell_type": "code",
   "execution_count": 1,
   "id": "662a665f-e629-46e9-a3ef-4b6e45b016ef",
   "metadata": {},
   "outputs": [
    {
     "name": "stdout",
     "output_type": "stream",
     "text": [
      "False\n",
      "False\n",
      "True\n",
      "False\n",
      "False\n",
      "True\n"
     ]
    }
   ],
   "source": [
    "#ANSWER for question 4\n",
    "\n",
    "print((5>4) and (3==5))\n",
    "print(not(5>4))\n",
    "print((5>4) or (3==5))\n",
    "print(not(5>4) or (3==5))\n",
    "print((True and True) and (True==False))\n",
    "print((not(False))or(not(True)))"
   ]
  },
  {
   "cell_type": "code",
   "execution_count": null,
   "id": "c2b7a1b7-604b-4693-a59c-ca82b28480c8",
   "metadata": {},
   "outputs": [],
   "source": [
    "Q5. What are the six comparison operators?\n",
    "\n",
    "ANSWER - .'==, !=, <, >, <=, and >='"
   ]
  },
  {
   "cell_type": "code",
   "execution_count": null,
   "id": "1eb62bfe-1cb7-47d0-be77-8003bebc7ac9",
   "metadata": {},
   "outputs": [],
   "source": [
    "6. How do you tell the difference between the equal to and assignment operators?Describe a condition and when you would use one.\n",
    "ANSWER -'= = is the equal to operator that compares two values and evaluates to a Boolean, while = is the assignment operator that stores a value in a variable.'\n",
    "'''\n",
    "Equal To Operator\n",
    "if(6==8):\n",
    "    print(\"True\")\n",
    "else:\n",
    "    print(\"False\")\n",
    "'''\n",
    "\n",
    "'''\n",
    "Assignment operator\n",
    "c=1 #here we have used assignment operator(=) to assign value of c which is 1\n",
    "print(\"c =\",c)'''\n",
    "\n"
   ]
  },
  {
   "cell_type": "code",
   "execution_count": null,
   "id": "a2f36cad-1eaa-4cdd-b0f9-05a597cbdb12",
   "metadata": {},
   "outputs": [],
   "source": [
    "7. Identify the three blocks in this code:\n",
    "spam = 0\n",
    "if spam == 10: #block1\n",
    "print('eggs')\n",
    "if spam > 5:     #block2\n",
    "print('bacon')\n",
    "else:             #block3 \n",
    "print('ham')\n",
    "print('spam')\n",
    "print('spam')"
   ]
  },
  {
   "cell_type": "code",
   "execution_count": null,
   "id": "5d55c47b-b72a-4ebc-ae1a-4b19359e2fd6",
   "metadata": {},
   "outputs": [],
   "source": [
    "8. Write code that prints Hello if 1 is stored in spam, prints Howdy if 2 is stored in spam, and prints\n",
    "Greetings! if anything else is stored in spam.\n",
    "ANSWER - spam = int(input(\"Input a no.\"))\n",
    "if spam == 1:\n",
    "    print(\"Hello\")\n",
    "elif spam == 2:\n",
    "    print(\"Howdy\")\n",
    "else:\n",
    "    print(\"Greetings!\")\n",
    "        "
   ]
  },
  {
   "cell_type": "code",
   "execution_count": null,
   "id": "3d556182-9cb9-40de-8989-f875e9c4a68c",
   "metadata": {},
   "outputs": [],
   "source": [
    "9.If your programme is stuck in an endless loop, what keys you’ll press?\n",
    "ANSWER - If program is stuck in endless loop we will press ctrl+c."
   ]
  },
  {
   "cell_type": "code",
   "execution_count": null,
   "id": "4a09519a-9f63-49f9-a61a-068b1c967a0e",
   "metadata": {},
   "outputs": [],
   "source": [
    "10. How can you tell the difference between break and continue?\n",
    "ANSWER - # use of break\n",
    "for i in range(10):\n",
    "    if(i==7):\n",
    "        break\n",
    "    print(i)\n",
    "    \n",
    "print('Breaked')\n",
    "#use of  continue\n",
    "for i in range(10):\n",
    "    if(i==7):\n",
    "        continue\n",
    "    print(i)\n",
    "    \n",
    "\n",
    "The break statement will move the execution outside and just after a loop. The continue statement will move the execution to the start of the loop."
   ]
  },
  {
   "cell_type": "code",
   "execution_count": null,
   "id": "034f5b09-1c29-4be9-b550-cff9eabf5da6",
   "metadata": {},
   "outputs": [],
   "source": [
    "11. In a for loop, what is the difference between range(10), range(0, 10), and range(0, 10, 1)?\n",
    "ANSWER - The range(10) call ranges from 0 up to (it does not include) 10, range(0, 10) tells the loop to start at 0, and range(0, 10, 1) tells the loop to increase the variable by 1 on each iteration.\n",
    "\n"
   ]
  },
  {
   "cell_type": "code",
   "execution_count": null,
   "id": "fef7cf76-95f4-43a3-bbc4-2be5049bc3ab",
   "metadata": {},
   "outputs": [],
   "source": [
    "12. Write a short program that prints the numbers 1 to 10 using a for loop. Then write an equivalent\n",
    "program that prints the numbers 1 to 10 using a while loop.\n"
   ]
  },
  {
   "cell_type": "code",
   "execution_count": 3,
   "id": "1fe20aeb-096e-4404-8c50-50e0fdbaae8b",
   "metadata": {},
   "outputs": [
    {
     "name": "stdout",
     "output_type": "stream",
     "text": [
      "0\n",
      "1\n",
      "2\n",
      "3\n",
      "4\n",
      "5\n",
      "6\n",
      "7\n",
      "8\n",
      "9\n",
      "10\n"
     ]
    }
   ],
   "source": [
    "#ANSWER to question 12 \n",
    "#for loop\n",
    "for i in range(0,11):\n",
    "    print(i)"
   ]
  },
  {
   "cell_type": "code",
   "execution_count": 5,
   "id": "c9cab3e8-d7ea-4f7a-9a7b-d5a19092e95a",
   "metadata": {},
   "outputs": [
    {
     "name": "stdout",
     "output_type": "stream",
     "text": [
      "1\n",
      "2\n",
      "3\n",
      "4\n",
      "5\n",
      "6\n",
      "7\n",
      "8\n",
      "9\n",
      "10\n"
     ]
    }
   ],
   "source": [
    "#while loop\n",
    "c=1\n",
    "while c <=10:\n",
    "    print(c)\n",
    "    c+=1"
   ]
  },
  {
   "cell_type": "code",
   "execution_count": null,
   "id": "3c837133-fd9b-4e84-89b5-879b0675e933",
   "metadata": {},
   "outputs": [],
   "source": [
    "13. If you had a function named bacon() inside a module named spam, how would you call it after\n",
    "importing spam?"
   ]
  },
  {
   "cell_type": "code",
   "execution_count": null,
   "id": "5f078899-a533-408a-be1b-56ac7abde911",
   "metadata": {},
   "outputs": [],
   "source": []
  },
  {
   "cell_type": "code",
   "execution_count": null,
   "id": "bf4f73fb-9d53-403d-ba20-6be8bdcc9b16",
   "metadata": {},
   "outputs": [],
   "source": []
  },
  {
   "cell_type": "code",
   "execution_count": null,
   "id": "eea8eab5-a8c8-4132-9ed8-1b30b774c291",
   "metadata": {},
   "outputs": [],
   "source": []
  },
  {
   "cell_type": "code",
   "execution_count": null,
   "id": "bffbf0b4-ab45-480b-9d7c-bbfa817877a7",
   "metadata": {},
   "outputs": [],
   "source": []
  }
 ],
 "metadata": {
  "kernelspec": {
   "display_name": "Python 3 (ipykernel)",
   "language": "python",
   "name": "python3"
  },
  "language_info": {
   "codemirror_mode": {
    "name": "ipython",
    "version": 3
   },
   "file_extension": ".py",
   "mimetype": "text/x-python",
   "name": "python",
   "nbconvert_exporter": "python",
   "pygments_lexer": "ipython3",
   "version": "3.10.6"
  }
 },
 "nbformat": 4,
 "nbformat_minor": 5
}
